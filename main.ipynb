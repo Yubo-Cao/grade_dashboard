{
 "cells": [
  {
   "attachments": {},
   "cell_type": "markdown",
   "metadata": {},
   "source": [
    "# Spider\n"
   ]
  },
  {
   "cell_type": "code",
   "execution_count": 1,
   "metadata": {},
   "outputs": [
    {
     "ename": "ModuleNotFoundError",
     "evalue": "No module named 'exception'",
     "output_type": "error",
     "traceback": [
      "\u001b[1;31m---------------------------------------------------------------------------\u001b[0m",
      "\u001b[1;31mModuleNotFoundError\u001b[0m                       Traceback (most recent call last)",
      "Cell \u001b[1;32mIn[1], line 10\u001b[0m\n\u001b[0;32m      7\u001b[0m \u001b[39mfrom\u001b[39;00m \u001b[39mlxml\u001b[39;00m\u001b[39m.\u001b[39;00m\u001b[39metree\u001b[39;00m \u001b[39mimport\u001b[39;00m HTML\n\u001b[0;32m      8\u001b[0m \u001b[39mfrom\u001b[39;00m \u001b[39myarl\u001b[39;00m \u001b[39mimport\u001b[39;00m URL\n\u001b[1;32m---> 10\u001b[0m \u001b[39mfrom\u001b[39;00m \u001b[39mexception\u001b[39;00m \u001b[39mimport\u001b[39;00m SpiderIOException\n\u001b[0;32m     11\u001b[0m \u001b[39mfrom\u001b[39;00m \u001b[39mutils\u001b[39;00m \u001b[39mimport\u001b[39;00m (\n\u001b[0;32m     12\u001b[0m     cached,\n\u001b[0;32m     13\u001b[0m     chunked,\n\u001b[1;32m   (...)\u001b[0m\n\u001b[0;32m     21\u001b[0m     retry,\n\u001b[0;32m     22\u001b[0m )\n",
      "\u001b[1;31mModuleNotFoundError\u001b[0m: No module named 'exception'"
     ]
    }
   ],
   "source": [
    "import asyncio\n",
    "import json\n",
    "from contextlib import asynccontextmanager\n",
    "from typing import Literal\n",
    "\n",
    "import aiohttp\n",
    "from lxml.etree import HTML\n",
    "from yarl import URL\n",
    "\n",
    "from grade_dashboard.exception import SpiderIOException\n",
    "from grade_dashboard.utils import (\n",
    "    cached,\n",
    "    chunked,\n",
    "    find,\n",
    "    first,\n",
    "    get_var,\n",
    "    identifier,\n",
    "    submit,\n",
    "    flatten,\n",
    "    compose,\n",
    "    retry,\n",
    ")\n"
   ]
  },
  {
   "cell_type": "code",
   "execution_count": null,
   "metadata": {},
   "outputs": [],
   "source": [
    "@cached\n",
    "async def cookie():\n",
    "    return aiohttp.CookieJar(unsafe=True)\n",
    "\n",
    "\n",
    "@cached\n",
    "async def session():\n",
    "    return aiohttp.ClientSession(\n",
    "        cookie_jar=await cookie(),\n",
    "        headers={\n",
    "            \"User-Agent\": \"Mozilla/5.0 (Macintosh; Intel Mac OS X 10_15_7) AppleWebKit/537.36 (KHTML, like Gecko) Chrome/91.0.4472.114 Safari/537.36\"\n",
    "        },\n",
    "    )\n"
   ]
  },
  {
   "cell_type": "code",
   "execution_count": null,
   "metadata": {},
   "outputs": [],
   "source": [
    "BASE_URL = URL(\"https://apps.gwinnett.k12.ga.us/\")\n",
    "\n",
    "\n",
    "def resolve_url(url: str | URL, base_url: URL = BASE_URL) -> URL:\n",
    "    return (\n",
    "        URL(url)\n",
    "        if URL(url).is_absolute()\n",
    "        else URL(base_url / url)\n",
    "        if isinstance(url, str)\n",
    "        else base_url.join(url)\n",
    "    )\n"
   ]
  },
  {
   "cell_type": "code",
   "execution_count": null,
   "metadata": {},
   "outputs": [],
   "source": [
    "@retry\n",
    "async def login(username: str, password: str) -> bool:\n",
    "    s = await session()\n",
    "    async with s.post(\n",
    "        BASE_URL / \"pkmslogin.form\",\n",
    "        data={\n",
    "            \"forgotpass\": \"p0/IZ7_3AM0I440J8GF30AIL6LB453082=CZ6_3AM0I440J8GF30AIL6LB4530G6=LA0=OC=Eaction!ResetPasswd==/#Z7_3AM0I440J8GF30AIL6LB453082\",\n",
    "            \"login-form-type\": \"pwd\",\n",
    "            \"username\": username,\n",
    "            \"password\": password,\n",
    "        },\n",
    "    ) as r:\n",
    "        return r.ok\n"
   ]
  },
  {
   "cell_type": "code",
   "execution_count": null,
   "metadata": {},
   "outputs": [],
   "source": [
    "@retry(deps=[login])\n",
    "@cached\n",
    "async def apps() -> list[tuple[str, URL]]:\n",
    "    s = await session()\n",
    "    url = BASE_URL / \"dca\" / \"student\" / \"dashboard\"\n",
    "    async with s.get(url) as r:\n",
    "        text = await r.text()\n",
    "        html = HTML(text)\n",
    "        apps = [\n",
    "            (\n",
    "                identifier(name),\n",
    "                resolve_url(href),\n",
    "            )\n",
    "            for name, href in [\n",
    "                (first(li.xpath(\"a/span/text()\")), first(li.xpath(\"a/@href\")))\n",
    "                for li in html.xpath(\n",
    "                    '//*[text()=\"MY eCLASS Apps\"]/following-sibling::ul/li'\n",
    "                )\n",
    "            ]\n",
    "            if href and name\n",
    "        ]\n",
    "        return apps\n",
    "\n",
    "\n",
    "@retry(deps=[apps])\n",
    "@cached\n",
    "async def vue_url() -> URL:\n",
    "    return find(await apps(), \"my_student_vue\")\n"
   ]
  },
  {
   "cell_type": "code",
   "execution_count": null,
   "metadata": {},
   "outputs": [],
   "source": [
    "@retry(deps=[vue_url])\n",
    "@cached\n",
    "async def vue():\n",
    "    s = await session()\n",
    "    async with s.get(await vue_url()) as r:\n",
    "        text = await r.text()\n",
    "    async with submit(s, text) as r:\n",
    "        return r.url.parent, await r.text()\n",
    "\n",
    "\n",
    "@retry(deps=[vue])\n",
    "@cached\n",
    "async def vue_base_url():\n",
    "    VUE_BASE_URL, _ = await vue()\n",
    "    return VUE_BASE_URL\n",
    "\n",
    "\n",
    "@retry(deps=[vue])\n",
    "@cached\n",
    "async def vue_script():\n",
    "    _, html_raw = await vue()\n",
    "    html = HTML(html_raw.encode(\"utf-8\"))\n",
    "    script = html.xpath(\"//head/script[1]/text()\")[0]\n",
    "    return script\n",
    "\n",
    "\n",
    "@retry(deps=[vue_script])\n",
    "@cached\n",
    "async def grade_book_url():\n",
    "    return find(await navigations(), \"grade_book\")\n",
    "\n",
    "\n",
    "@retry(deps=[grade_book_url])\n",
    "@cached\n",
    "async def navigations():\n",
    "    return [\n",
    "        (\n",
    "            identifier(nav.get(\"description\")),\n",
    "            resolve_url(URL(nav.get(\"url\")), await vue_base_url()),\n",
    "        )\n",
    "        for nav in get_var(\"PXP.NavigationData\", await vue_script())[\"items\"]\n",
    "    ]\n"
   ]
  },
  {
   "cell_type": "code",
   "execution_count": null,
   "metadata": {},
   "outputs": [],
   "source": [
    "@retry(deps=[grade_book_url])\n",
    "@cached\n",
    "async def grade_book():\n",
    "    s = await session()\n",
    "    async with s.get(await grade_book_url()) as r:\n",
    "        text = await r.text()\n",
    "        return HTML(text.encode(\"utf-8\"))\n",
    "\n",
    "\n",
    "@retry(deps=[grade_book])\n",
    "@cached\n",
    "async def courses():\n",
    "    html = await grade_book()\n",
    "    rows = chunked(\n",
    "        html.xpath(\n",
    "            '//div[@id=\"gradebook-content\"]'\n",
    "            '//div[contains(@class, \"header\")]'\n",
    "            '/following-sibling::div[div[contains(@class, \"row\")]]'\n",
    "            \"/div\"\n",
    "        ),\n",
    "        2,\n",
    "    )\n",
    "    return [\n",
    "        dict(\n",
    "            course=first(header.xpath(\"div[1]/button/text()\")),\n",
    "            teacher=first(\n",
    "                header.xpath('.//span[contains(@class, \"teacher\")]//a/text()')\n",
    "            ),\n",
    "            grade=first(content.xpath('.//span[contains(@class, \"mark\")]/text()')),\n",
    "            params=json.loads(first(header.xpath(\".//button/@data-focus\"))),\n",
    "        )\n",
    "        for header, content in rows\n",
    "    ]\n"
   ]
  },
  {
   "cell_type": "code",
   "execution_count": null,
   "metadata": {},
   "outputs": [],
   "source": [
    "async def load_control(control_name: str, params: dict[str, any]) -> dict:\n",
    "    s = await session()\n",
    "    url = (await vue_base_url()) / \"service\" / \"PXP2Communication.asmx\" / \"LoadControl\"\n",
    "    data = dict(request=dict(control=control_name, parameters=params))\n",
    "    async with s.post(\n",
    "        url,\n",
    "        json=data,\n",
    "        headers={\"X-Requested-With\": \"XMLHttpRequest\"},\n",
    "    ) as r:\n",
    "        if not r.ok:\n",
    "            display(await r.text())\n",
    "            raise SpiderIOException(f'Failed to load \"{control_name}\"', r)\n",
    "        return await r.json()\n",
    "\n",
    "\n",
    "async def load_course(course):\n",
    "    await load_control(\n",
    "        course[\"params\"][\"LoadParams\"][\"ControlName\"],\n",
    "        course[\"params\"][\"FocusArgs\"],\n",
    "    )\n",
    "\n",
    "\n",
    "course_lock = asyncio.Lock()\n",
    "\n",
    "\n",
    "@asynccontextmanager\n",
    "async def course(course: dict[str, any] | int | str):\n",
    "    if isinstance(course, int):\n",
    "        course = (await courses())[course]\n",
    "    elif isinstance(course, str):\n",
    "        course = first(\n",
    "            (\n",
    "                c\n",
    "                for c in await courses()\n",
    "                if course.lower() in c.get(\"course\", \"\").lower()\n",
    "            )\n",
    "        )\n",
    "    if not course:\n",
    "        raise ValueError(\"No course found\")\n",
    "    async with course_lock:\n",
    "        await load_course(course)\n",
    "        yield\n"
   ]
  },
  {
   "cell_type": "code",
   "execution_count": null,
   "metadata": {},
   "outputs": [],
   "source": [
    "@retry(deps=[course])\n",
    "async def call_api(action: str, data: dict[str, any]) -> dict:\n",
    "    s = await session()\n",
    "    url = (\n",
    "        (await vue_base_url()) / \"api\" / \"GB\" / \"ClientSideData\" / \"Transfer\"\n",
    "    ).with_query(action=action)\n",
    "    headers = {\n",
    "        \"CURRENT_WEB_PORTAL\": \"StudentVUE\",\n",
    "        \"X-Requested-With\": \"XMLHttpRequest\",\n",
    "    }\n",
    "    async with s.post(url, json=data, headers=headers) as r:\n",
    "        if not r.ok:\n",
    "            display(await r.text())\n",
    "            name = data.get(\"FriendlyName\", \"Unknown\")\n",
    "            raise SpiderIOException(f'Failed to call \"{name}\"', r)\n",
    "        return await r.json()\n",
    "\n",
    "\n",
    "async def get_class_data():\n",
    "    return await call_api(\n",
    "        \"genericdata.classdata-GetClassData\",\n",
    "        {\n",
    "            \"FriendlyName\": \"genericdata.classdata\",\n",
    "            \"Method\": \"GetClassData\",\n",
    "            \"Parameters\": \"{}\",\n",
    "        },\n",
    "    )\n",
    "\n",
    "\n",
    "async def get_items(\n",
    "    sort: str = \"due_date\",\n",
    "    group_by: Literal[\"Week\", \"Subject\", \"AssignmentType\", \"Unit\", \"Date\"] = \"Week\",\n",
    "):\n",
    "    return await call_api(\n",
    "        \"pxp.course.content.items-LoadWithOption\",\n",
    "        {\n",
    "            \"FriendlyName\": \"pxp.course.content.items\",\n",
    "            \"Method\": \"LoadWithOptions\",\n",
    "            \"Parameters\": json.dumps(\n",
    "                {\n",
    "                    \"loadOptions\": {\n",
    "                        \"sort\": [{\"selector\": sort, \"desc\": False}],\n",
    "                        \"filter\": [[\"isDone\", \"=\", False]],\n",
    "                        \"group\": [{\"Selector\": group_by, \"desc\": False}],\n",
    "                        \"requireTotalCount\": True,\n",
    "                        \"userData\": {},\n",
    "                    },\n",
    "                    \"clientState\": {},\n",
    "                }\n",
    "            ),\n",
    "        },\n",
    "    )\n"
   ]
  },
  {
   "cell_type": "code",
   "execution_count": null,
   "metadata": {},
   "outputs": [],
   "source": [
    "USERNAME = \"202016378\"\n",
    "PASSWORD = \"202016378\"\n",
    "await login(USERNAME, PASSWORD)\n"
   ]
  },
  {
   "cell_type": "code",
   "execution_count": null,
   "metadata": {},
   "outputs": [],
   "source": [
    "result = []\n",
    "for i in range(len(await courses())):\n",
    "    async with course(i) as c:\n",
    "        result.append(await asyncio.gather(get_items(), get_class_data()))\n"
   ]
  },
  {
   "cell_type": "code",
   "execution_count": null,
   "metadata": {},
   "outputs": [],
   "source": []
  },
  {
   "attachments": {},
   "cell_type": "markdown",
   "metadata": {},
   "source": [
    "# Analysis\n"
   ]
  },
  {
   "cell_type": "code",
   "execution_count": null,
   "metadata": {},
   "outputs": [],
   "source": [
    "from decimal import Decimal\n",
    "\n",
    "import pandas as pd\n",
    "import plotly.express as px\n",
    "import plotly.graph_objects as go\n"
   ]
  },
  {
   "attachments": {},
   "cell_type": "markdown",
   "metadata": {},
   "source": [
    "## Parse\n"
   ]
  },
  {
   "cell_type": "code",
   "execution_count": null,
   "metadata": {},
   "outputs": [],
   "source": [
    "def parse_class_data(cd: dict[str, any]) -> dict[str, dict | pd.DataFrame]:\n",
    "    meta = dict(\n",
    "        class_id=cd.get(\"classId\"),\n",
    "        name=cd.get(\"className\"),\n",
    "        rigor_points=cd.get(\"rigorPoints\"),\n",
    "    )\n",
    "    # measure types\n",
    "    mt_df = (\n",
    "        pd.DataFrame(cd.get(\"measureTypes\"))\n",
    "        .set_index(\"id\")\n",
    "        .rename(identifier, axis=\"columns\")[[\"name\", \"drop_scores\", \"weight\"]]\n",
    "    )\n",
    "    mt_df = mt_df[mt_df.weight > 0]\n",
    "    # assignments\n",
    "    as_df = (\n",
    "        pd.DataFrame(cd.get(\"assignments\"))\n",
    "        .rename(identifier, axis=\"columns\")\n",
    "        .set_index(\"grade_book_id\")\n",
    "    )[\n",
    "        [\n",
    "            \"measure_type_id\",\n",
    "            \"score\",\n",
    "            \"max_value\",\n",
    "            \"max_score\",\n",
    "            \"due_date\",\n",
    "            \"is_for_grading\",\n",
    "            \"comment_code\",\n",
    "        ]\n",
    "    ]\n",
    "    as_df.due_date = pd.to_datetime(as_df.due_date)\n",
    "    cols = [\"score\", \"max_score\", \"max_value\"]\n",
    "    as_df[cols] = as_df[cols].astype(float)\n",
    "    # comments\n",
    "    co_df = (\n",
    "        pd.DataFrame(cd.get(\"comments\"))\n",
    "        .rename(identifier, axis=\"columns\")\n",
    "        .set_index(\"comment_code\")[[\"comment\", \"assignment_value\", \"penalty_pct\"]]\n",
    "    )\n",
    "    co_df.assignment_value = co_df.assignment_value.astype(float)\n",
    "    co_df.penalty_pct = co_df.penalty_pct.astype(float)\n",
    "    return dict(meta=meta, measure_types=mt_df, assignments=as_df, comments=co_df)\n"
   ]
  },
  {
   "cell_type": "code",
   "execution_count": null,
   "metadata": {},
   "outputs": [],
   "source": [
    "def parse_items(items: dict[str, any]) -> pd.DataFrame:\n",
    "    items = items[\"responseData\"][\"data\"]\n",
    "    df = pd.DataFrame(flatten(e.get(\"items\", []) for e in items)).rename(\n",
    "        identifier,\n",
    "        axis=\"columns\",\n",
    "    )[\n",
    "        [\"item_id\", \"title\", \"assignment_type\", \"due_date\", \"points\"]\n",
    "    ]  # grade_mark\n",
    "    df.points = pd.to_numeric(df.points, errors=\"coerce\").astype(float)\n",
    "    df.due_date = pd.to_datetime(df.due_date)\n",
    "    df.set_index(\"item_id\", inplace=True)\n",
    "    return df\n"
   ]
  },
  {
   "cell_type": "code",
   "execution_count": null,
   "metadata": {},
   "outputs": [],
   "source": [
    "def parse_gradebook_items(class_data, items) -> pd.DataFrame:\n",
    "    class_data = parse_class_data(class_data)\n",
    "    items = parse_items(items)\n",
    "    df: pd.DataFrame = (\n",
    "        class_data[\"measure_types\"]\n",
    "        .merge(class_data[\"assignments\"], left_index=True, right_on=\"measure_type_id\")\n",
    "        .join(items[\"title\"])\n",
    "        .join(class_data[\"comments\"], on=\"comment_code\", how=\"left\")\n",
    "    )\n",
    "    df = df.rename(\n",
    "        columns={\n",
    "            \"name\": \"measure_type\",\n",
    "            \"title\": \"name\",\n",
    "            \"assignment_value\": \"comment_assignment_value\",\n",
    "        }\n",
    "    ).apply(\n",
    "        lambda x: x.apply(lambda e: Decimal(e))\n",
    "        if pd.api.types.is_numeric_dtype(x)\n",
    "        else x,\n",
    "        axis=\"rows\",\n",
    "    )\n",
    "    adjusted_score = df.comment_assignment_value.fillna(\n",
    "        df.score\n",
    "    ) - df.drop_scores.fillna(Decimal(0.0))\n",
    "    adjusted_score = (\n",
    "        adjusted_score\n",
    "        / df.max_score.fillna(Decimal(100.0))\n",
    "        * 100\n",
    "        * (1 - df.penalty_pct.fillna(Decimal(0.0)) / 100)\n",
    "    )\n",
    "    df.score = adjusted_score\n",
    "    return df.drop(\n",
    "        columns=[\"drop_scores\", \"max_value\", \"max_score\", \"comment_assignment_value\"]\n",
    "    )[~pd.isna(df.name)]\n"
   ]
  },
  {
   "cell_type": "code",
   "execution_count": null,
   "metadata": {},
   "outputs": [],
   "source": [
    "def get_grade_df(df: pd.DataFrame) -> pd.DataFrame:\n",
    "    return df[df.is_for_grading == 1][~pd.isna(df.score)]\n",
    "\n",
    "\n",
    "def grade_df(fn):\n",
    "    def wrapper(df, *args, **kwargs):\n",
    "        return fn(get_grade_df(df), *args, **kwargs)\n",
    "\n",
    "    return wrapper\n",
    "\n",
    "\n",
    "@grade_df\n",
    "def get_total_score(df: pd.DataFrame) -> Decimal:\n",
    "    total_weight = get_total_weight(df)\n",
    "    total_score_by_type = df.groupby(\"measure_type\").apply(\n",
    "        lambda x: x.score.sum()\n",
    "        / len(x)\n",
    "        * x.weight.iloc[0]\n",
    "        / total_weight  # hack: prevent decimal convert to float\n",
    "    )\n",
    "    total_score = total_score_by_type.sum()\n",
    "    return total_score\n",
    "\n",
    "\n",
    "@grade_df\n",
    "def get_total_weight(df) -> Decimal:\n",
    "    return df.drop_duplicates(subset=\"measure_type_id\").weight.sum()\n",
    "\n",
    "\n",
    "@grade_df\n",
    "def get_score_by_type(df: pd.DataFrame) -> pd.Series:\n",
    "    return df.groupby(\"measure_type\").apply(lambda x: x.score.sum() / len(x))\n",
    "\n",
    "\n",
    "@grade_df\n",
    "def get_blame(df: pd.DataFrame) -> pd.Series:\n",
    "    return (\n",
    "        df.score\n",
    "        / df.groupby(\"measure_type\").score.transform(\"sum\")\n",
    "        * df.weight\n",
    "        / get_total_weight(df)\n",
    "    )\n",
    "\n",
    "\n",
    "@grade_df\n",
    "def get_contrib(df: pd.DataFrame) -> pd.Series:\n",
    "    count = df.groupby(\"measure_type_id\").measure_type.count()\n",
    "    df = df.join(count, on=\"measure_type_id\", rsuffix=\"_count\")\n",
    "    return df.score / df.measure_type_count * df.weight / get_total_weight(df)\n"
   ]
  },
  {
   "cell_type": "code",
   "execution_count": null,
   "metadata": {},
   "outputs": [],
   "source": [
    "def plot_blame(assignments):\n",
    "    assignments[\"blame\"] = get_blame(assignments)\n",
    "    fig = px.bar(\n",
    "        assignments,\n",
    "        x=\"blame\",\n",
    "        y=\"name\",\n",
    "        color=\"measure_type\",\n",
    "        barmode=\"group\",\n",
    "        color_discrete_sequence=px.colors.qualitative.Pastel,\n",
    "        orientation=\"h\",\n",
    "        title=\"Blame\",\n",
    "    )\n",
    "    fig.show()\n",
    "\n",
    "\n",
    "def plot_score_by_type(assignments):\n",
    "    score_by_type = pd.DataFrame(get_score_by_type(assignments), columns=[\"score\"])\n",
    "    fig = px.bar(\n",
    "        score_by_type.reset_index(),\n",
    "        x=\"score\",\n",
    "        y=\"measure_type\",\n",
    "        color_discrete_sequence=px.colors.qualitative.Pastel,\n",
    "        orientation=\"h\",\n",
    "        title=\"Score by Type\",\n",
    "    )\n",
    "    fig.show()\n",
    "\n",
    "\n",
    "def plot_contrib(assignments):\n",
    "    assignments[\"contrib\"] = get_contrib(assignments)\n",
    "    fig = px.bar(\n",
    "        assignments,\n",
    "        x=\"contrib\",\n",
    "        y=\"name\",\n",
    "        color=\"measure_type\",\n",
    "        barmode=\"group\",\n",
    "        color_discrete_sequence=px.colors.qualitative.Pastel,\n",
    "        orientation=\"h\",\n",
    "        title=\"Contrib\",\n",
    "    )\n",
    "    fig.show()\n"
   ]
  },
  {
   "cell_type": "code",
   "execution_count": null,
   "metadata": {},
   "outputs": [],
   "source": [
    "grade_books = [parse_gradebook_items(class_data, items) for items, class_data in result]\n"
   ]
  },
  {
   "cell_type": "code",
   "execution_count": null,
   "metadata": {},
   "outputs": [],
   "source": [
    "grade_book = grade_books[0]\n",
    "\n",
    "plot_score_by_type(grade_book)\n",
    "plot_blame(grade_book)\n",
    "plot_contrib(grade_book)\n"
   ]
  },
  {
   "attachments": {},
   "cell_type": "markdown",
   "metadata": {},
   "source": [
    "## Multi-course\n"
   ]
  },
  {
   "cell_type": "code",
   "execution_count": null,
   "metadata": {},
   "outputs": [],
   "source": [
    "total_scores = pd.DataFrame(\n",
    "    [\n",
    "        {\n",
    "            \"name\": (await courses())[i][\"course\"].split(\": \")[1].capitalize(),\n",
    "            \"score\": get_total_score(grade_books[i]),\n",
    "            \"ap\": \"AP\" in (await courses())[i][\"course\"],\n",
    "        }\n",
    "        for i in range(len(grade_books))\n",
    "    ]\n",
    ")\n"
   ]
  },
  {
   "cell_type": "code",
   "execution_count": 121,
   "metadata": {},
   "outputs": [],
   "source": [
    "def plot_scores(\n",
    "    df: pd.DataFrame,\n",
    "    type: Literal[\"bar\", \"radar\"] = \"bar\",\n",
    "    normalize: bool = False,\n",
    "    weighted: bool = False,\n",
    "):\n",
    "    df = df.copy()\n",
    "    if weighted:\n",
    "        df.score += 10 * df.ap\n",
    "    mean = df.score.sum() / len(df)  # hack: prevent decimal convert to float\n",
    "    title = f\"Total Scores {'Normalized' if normalize else ''}—{mean:.2f}\"\n",
    "    if normalize:\n",
    "        std = (df.score - mean).pow(2).sum() / len(df)\n",
    "        df.score = (df.score - mean) / std\n",
    "        df.score -= df.score.min() - 1\n",
    "    if type == \"bar\":\n",
    "        fig = px.bar(\n",
    "            df,\n",
    "            x=\"score\",\n",
    "            y=\"name\",\n",
    "            color_discrete_sequence=px.colors.qualitative.Pastel,\n",
    "            orientation=\"h\",\n",
    "            title=title,\n",
    "        )\n",
    "        fig.show()\n",
    "    else:\n",
    "        fig = px.line_polar(\n",
    "            df,\n",
    "            r=\"score\",\n",
    "            theta=\"name\",\n",
    "            line_close=True,\n",
    "            color_discrete_sequence=px.colors.qualitative.Pastel,\n",
    "            title=title,\n",
    "        )\n",
    "        fig.update_traces(fill=\"toself\")\n",
    "        fig.show()\n"
   ]
  },
  {
   "cell_type": "code",
   "execution_count": 123,
   "metadata": {},
   "outputs": [
    {
     "name": "stderr",
     "output_type": "stream",
     "text": [
      "c:\\Users\\yubo\\.pyenv\\pyenv-win\\versions\\3.11.0\\Lib\\site-packages\\plotly\\express\\_core.py:271: FutureWarning:\n",
      "\n",
      "The frame.append method is deprecated and will be removed from pandas in a future version. Use pandas.concat instead.\n",
      "\n"
     ]
    },
    {
     "data": {
      "application/vnd.plotly.v1+json": {
       "config": {
        "plotlyServerURL": "https://plot.ly"
       },
       "data": [
        {
         "fill": "toself",
         "hovertemplate": "score=%{r}<br>name=%{theta}<extra></extra>",
         "legendgroup": "",
         "line": {
          "color": "rgb(102, 197, 204)",
          "dash": "solid"
         },
         "marker": {
          "symbol": "circle"
         },
         "mode": "lines",
         "name": "",
         "r": [
          99.4375,
          109.76190476190476,
          98.56971153846153,
          108.75,
          106.5576923076923,
          97.33333333333333,
          95.66666666666667,
          110,
          99.4375
         ],
         "showlegend": false,
         "subplot": "polar",
         "theta": [
          "Mstry band ii",
          "Ap cal bc gf",
          "Span ii gf",
          "Eng application",
          "Ap biology gf",
          "Adv phys robotic gf",
          "10 lit & comp gf",
          "Ap wor hist gf",
          "Mstry band ii"
         ],
         "type": "scatterpolar"
        }
       ],
       "layout": {
        "legend": {
         "tracegroupgap": 0
        },
        "polar": {
         "angularaxis": {
          "direction": "clockwise",
          "rotation": 90
         },
         "domain": {
          "x": [
           0,
           1
          ],
          "y": [
           0,
           1
          ]
         }
        },
        "template": {
         "data": {
          "bar": [
           {
            "error_x": {
             "color": "#2a3f5f"
            },
            "error_y": {
             "color": "#2a3f5f"
            },
            "marker": {
             "line": {
              "color": "#E5ECF6",
              "width": 0.5
             },
             "pattern": {
              "fillmode": "overlay",
              "size": 10,
              "solidity": 0.2
             }
            },
            "type": "bar"
           }
          ],
          "barpolar": [
           {
            "marker": {
             "line": {
              "color": "#E5ECF6",
              "width": 0.5
             },
             "pattern": {
              "fillmode": "overlay",
              "size": 10,
              "solidity": 0.2
             }
            },
            "type": "barpolar"
           }
          ],
          "carpet": [
           {
            "aaxis": {
             "endlinecolor": "#2a3f5f",
             "gridcolor": "white",
             "linecolor": "white",
             "minorgridcolor": "white",
             "startlinecolor": "#2a3f5f"
            },
            "baxis": {
             "endlinecolor": "#2a3f5f",
             "gridcolor": "white",
             "linecolor": "white",
             "minorgridcolor": "white",
             "startlinecolor": "#2a3f5f"
            },
            "type": "carpet"
           }
          ],
          "choropleth": [
           {
            "colorbar": {
             "outlinewidth": 0,
             "ticks": ""
            },
            "type": "choropleth"
           }
          ],
          "contour": [
           {
            "colorbar": {
             "outlinewidth": 0,
             "ticks": ""
            },
            "colorscale": [
             [
              0,
              "#0d0887"
             ],
             [
              0.1111111111111111,
              "#46039f"
             ],
             [
              0.2222222222222222,
              "#7201a8"
             ],
             [
              0.3333333333333333,
              "#9c179e"
             ],
             [
              0.4444444444444444,
              "#bd3786"
             ],
             [
              0.5555555555555556,
              "#d8576b"
             ],
             [
              0.6666666666666666,
              "#ed7953"
             ],
             [
              0.7777777777777778,
              "#fb9f3a"
             ],
             [
              0.8888888888888888,
              "#fdca26"
             ],
             [
              1,
              "#f0f921"
             ]
            ],
            "type": "contour"
           }
          ],
          "contourcarpet": [
           {
            "colorbar": {
             "outlinewidth": 0,
             "ticks": ""
            },
            "type": "contourcarpet"
           }
          ],
          "heatmap": [
           {
            "colorbar": {
             "outlinewidth": 0,
             "ticks": ""
            },
            "colorscale": [
             [
              0,
              "#0d0887"
             ],
             [
              0.1111111111111111,
              "#46039f"
             ],
             [
              0.2222222222222222,
              "#7201a8"
             ],
             [
              0.3333333333333333,
              "#9c179e"
             ],
             [
              0.4444444444444444,
              "#bd3786"
             ],
             [
              0.5555555555555556,
              "#d8576b"
             ],
             [
              0.6666666666666666,
              "#ed7953"
             ],
             [
              0.7777777777777778,
              "#fb9f3a"
             ],
             [
              0.8888888888888888,
              "#fdca26"
             ],
             [
              1,
              "#f0f921"
             ]
            ],
            "type": "heatmap"
           }
          ],
          "heatmapgl": [
           {
            "colorbar": {
             "outlinewidth": 0,
             "ticks": ""
            },
            "colorscale": [
             [
              0,
              "#0d0887"
             ],
             [
              0.1111111111111111,
              "#46039f"
             ],
             [
              0.2222222222222222,
              "#7201a8"
             ],
             [
              0.3333333333333333,
              "#9c179e"
             ],
             [
              0.4444444444444444,
              "#bd3786"
             ],
             [
              0.5555555555555556,
              "#d8576b"
             ],
             [
              0.6666666666666666,
              "#ed7953"
             ],
             [
              0.7777777777777778,
              "#fb9f3a"
             ],
             [
              0.8888888888888888,
              "#fdca26"
             ],
             [
              1,
              "#f0f921"
             ]
            ],
            "type": "heatmapgl"
           }
          ],
          "histogram": [
           {
            "marker": {
             "pattern": {
              "fillmode": "overlay",
              "size": 10,
              "solidity": 0.2
             }
            },
            "type": "histogram"
           }
          ],
          "histogram2d": [
           {
            "colorbar": {
             "outlinewidth": 0,
             "ticks": ""
            },
            "colorscale": [
             [
              0,
              "#0d0887"
             ],
             [
              0.1111111111111111,
              "#46039f"
             ],
             [
              0.2222222222222222,
              "#7201a8"
             ],
             [
              0.3333333333333333,
              "#9c179e"
             ],
             [
              0.4444444444444444,
              "#bd3786"
             ],
             [
              0.5555555555555556,
              "#d8576b"
             ],
             [
              0.6666666666666666,
              "#ed7953"
             ],
             [
              0.7777777777777778,
              "#fb9f3a"
             ],
             [
              0.8888888888888888,
              "#fdca26"
             ],
             [
              1,
              "#f0f921"
             ]
            ],
            "type": "histogram2d"
           }
          ],
          "histogram2dcontour": [
           {
            "colorbar": {
             "outlinewidth": 0,
             "ticks": ""
            },
            "colorscale": [
             [
              0,
              "#0d0887"
             ],
             [
              0.1111111111111111,
              "#46039f"
             ],
             [
              0.2222222222222222,
              "#7201a8"
             ],
             [
              0.3333333333333333,
              "#9c179e"
             ],
             [
              0.4444444444444444,
              "#bd3786"
             ],
             [
              0.5555555555555556,
              "#d8576b"
             ],
             [
              0.6666666666666666,
              "#ed7953"
             ],
             [
              0.7777777777777778,
              "#fb9f3a"
             ],
             [
              0.8888888888888888,
              "#fdca26"
             ],
             [
              1,
              "#f0f921"
             ]
            ],
            "type": "histogram2dcontour"
           }
          ],
          "mesh3d": [
           {
            "colorbar": {
             "outlinewidth": 0,
             "ticks": ""
            },
            "type": "mesh3d"
           }
          ],
          "parcoords": [
           {
            "line": {
             "colorbar": {
              "outlinewidth": 0,
              "ticks": ""
             }
            },
            "type": "parcoords"
           }
          ],
          "pie": [
           {
            "automargin": true,
            "type": "pie"
           }
          ],
          "scatter": [
           {
            "fillpattern": {
             "fillmode": "overlay",
             "size": 10,
             "solidity": 0.2
            },
            "type": "scatter"
           }
          ],
          "scatter3d": [
           {
            "line": {
             "colorbar": {
              "outlinewidth": 0,
              "ticks": ""
             }
            },
            "marker": {
             "colorbar": {
              "outlinewidth": 0,
              "ticks": ""
             }
            },
            "type": "scatter3d"
           }
          ],
          "scattercarpet": [
           {
            "marker": {
             "colorbar": {
              "outlinewidth": 0,
              "ticks": ""
             }
            },
            "type": "scattercarpet"
           }
          ],
          "scattergeo": [
           {
            "marker": {
             "colorbar": {
              "outlinewidth": 0,
              "ticks": ""
             }
            },
            "type": "scattergeo"
           }
          ],
          "scattergl": [
           {
            "marker": {
             "colorbar": {
              "outlinewidth": 0,
              "ticks": ""
             }
            },
            "type": "scattergl"
           }
          ],
          "scattermapbox": [
           {
            "marker": {
             "colorbar": {
              "outlinewidth": 0,
              "ticks": ""
             }
            },
            "type": "scattermapbox"
           }
          ],
          "scatterpolar": [
           {
            "marker": {
             "colorbar": {
              "outlinewidth": 0,
              "ticks": ""
             }
            },
            "type": "scatterpolar"
           }
          ],
          "scatterpolargl": [
           {
            "marker": {
             "colorbar": {
              "outlinewidth": 0,
              "ticks": ""
             }
            },
            "type": "scatterpolargl"
           }
          ],
          "scatterternary": [
           {
            "marker": {
             "colorbar": {
              "outlinewidth": 0,
              "ticks": ""
             }
            },
            "type": "scatterternary"
           }
          ],
          "surface": [
           {
            "colorbar": {
             "outlinewidth": 0,
             "ticks": ""
            },
            "colorscale": [
             [
              0,
              "#0d0887"
             ],
             [
              0.1111111111111111,
              "#46039f"
             ],
             [
              0.2222222222222222,
              "#7201a8"
             ],
             [
              0.3333333333333333,
              "#9c179e"
             ],
             [
              0.4444444444444444,
              "#bd3786"
             ],
             [
              0.5555555555555556,
              "#d8576b"
             ],
             [
              0.6666666666666666,
              "#ed7953"
             ],
             [
              0.7777777777777778,
              "#fb9f3a"
             ],
             [
              0.8888888888888888,
              "#fdca26"
             ],
             [
              1,
              "#f0f921"
             ]
            ],
            "type": "surface"
           }
          ],
          "table": [
           {
            "cells": {
             "fill": {
              "color": "#EBF0F8"
             },
             "line": {
              "color": "white"
             }
            },
            "header": {
             "fill": {
              "color": "#C8D4E3"
             },
             "line": {
              "color": "white"
             }
            },
            "type": "table"
           }
          ]
         },
         "layout": {
          "annotationdefaults": {
           "arrowcolor": "#2a3f5f",
           "arrowhead": 0,
           "arrowwidth": 1
          },
          "autotypenumbers": "strict",
          "coloraxis": {
           "colorbar": {
            "outlinewidth": 0,
            "ticks": ""
           }
          },
          "colorscale": {
           "diverging": [
            [
             0,
             "#8e0152"
            ],
            [
             0.1,
             "#c51b7d"
            ],
            [
             0.2,
             "#de77ae"
            ],
            [
             0.3,
             "#f1b6da"
            ],
            [
             0.4,
             "#fde0ef"
            ],
            [
             0.5,
             "#f7f7f7"
            ],
            [
             0.6,
             "#e6f5d0"
            ],
            [
             0.7,
             "#b8e186"
            ],
            [
             0.8,
             "#7fbc41"
            ],
            [
             0.9,
             "#4d9221"
            ],
            [
             1,
             "#276419"
            ]
           ],
           "sequential": [
            [
             0,
             "#0d0887"
            ],
            [
             0.1111111111111111,
             "#46039f"
            ],
            [
             0.2222222222222222,
             "#7201a8"
            ],
            [
             0.3333333333333333,
             "#9c179e"
            ],
            [
             0.4444444444444444,
             "#bd3786"
            ],
            [
             0.5555555555555556,
             "#d8576b"
            ],
            [
             0.6666666666666666,
             "#ed7953"
            ],
            [
             0.7777777777777778,
             "#fb9f3a"
            ],
            [
             0.8888888888888888,
             "#fdca26"
            ],
            [
             1,
             "#f0f921"
            ]
           ],
           "sequentialminus": [
            [
             0,
             "#0d0887"
            ],
            [
             0.1111111111111111,
             "#46039f"
            ],
            [
             0.2222222222222222,
             "#7201a8"
            ],
            [
             0.3333333333333333,
             "#9c179e"
            ],
            [
             0.4444444444444444,
             "#bd3786"
            ],
            [
             0.5555555555555556,
             "#d8576b"
            ],
            [
             0.6666666666666666,
             "#ed7953"
            ],
            [
             0.7777777777777778,
             "#fb9f3a"
            ],
            [
             0.8888888888888888,
             "#fdca26"
            ],
            [
             1,
             "#f0f921"
            ]
           ]
          },
          "colorway": [
           "#636efa",
           "#EF553B",
           "#00cc96",
           "#ab63fa",
           "#FFA15A",
           "#19d3f3",
           "#FF6692",
           "#B6E880",
           "#FF97FF",
           "#FECB52"
          ],
          "font": {
           "color": "#2a3f5f"
          },
          "geo": {
           "bgcolor": "white",
           "lakecolor": "white",
           "landcolor": "#E5ECF6",
           "showlakes": true,
           "showland": true,
           "subunitcolor": "white"
          },
          "hoverlabel": {
           "align": "left"
          },
          "hovermode": "closest",
          "mapbox": {
           "style": "light"
          },
          "paper_bgcolor": "white",
          "plot_bgcolor": "#E5ECF6",
          "polar": {
           "angularaxis": {
            "gridcolor": "white",
            "linecolor": "white",
            "ticks": ""
           },
           "bgcolor": "#E5ECF6",
           "radialaxis": {
            "gridcolor": "white",
            "linecolor": "white",
            "ticks": ""
           }
          },
          "scene": {
           "xaxis": {
            "backgroundcolor": "#E5ECF6",
            "gridcolor": "white",
            "gridwidth": 2,
            "linecolor": "white",
            "showbackground": true,
            "ticks": "",
            "zerolinecolor": "white"
           },
           "yaxis": {
            "backgroundcolor": "#E5ECF6",
            "gridcolor": "white",
            "gridwidth": 2,
            "linecolor": "white",
            "showbackground": true,
            "ticks": "",
            "zerolinecolor": "white"
           },
           "zaxis": {
            "backgroundcolor": "#E5ECF6",
            "gridcolor": "white",
            "gridwidth": 2,
            "linecolor": "white",
            "showbackground": true,
            "ticks": "",
            "zerolinecolor": "white"
           }
          },
          "shapedefaults": {
           "line": {
            "color": "#2a3f5f"
           }
          },
          "ternary": {
           "aaxis": {
            "gridcolor": "white",
            "linecolor": "white",
            "ticks": ""
           },
           "baxis": {
            "gridcolor": "white",
            "linecolor": "white",
            "ticks": ""
           },
           "bgcolor": "#E5ECF6",
           "caxis": {
            "gridcolor": "white",
            "linecolor": "white",
            "ticks": ""
           }
          },
          "title": {
           "x": 0.05
          },
          "xaxis": {
           "automargin": true,
           "gridcolor": "white",
           "linecolor": "white",
           "ticks": "",
           "title": {
            "standoff": 15
           },
           "zerolinecolor": "white",
           "zerolinewidth": 2
          },
          "yaxis": {
           "automargin": true,
           "gridcolor": "white",
           "linecolor": "white",
           "ticks": "",
           "title": {
            "standoff": 15
           },
           "zerolinecolor": "white",
           "zerolinewidth": 2
          }
         }
        },
        "title": {
         "text": "Total Scores —103.26"
        }
       }
      }
     },
     "metadata": {},
     "output_type": "display_data"
    }
   ],
   "source": [
    "plot_scores(total_scores, type=\"radar\", normalize=False, weighted=True)\n"
   ]
  }
 ],
 "metadata": {
  "kernelspec": {
   "display_name": "Python 3",
   "language": "python",
   "name": "python3"
  },
  "language_info": {
   "codemirror_mode": {
    "name": "ipython",
    "version": 3
   },
   "file_extension": ".py",
   "mimetype": "text/x-python",
   "name": "python",
   "nbconvert_exporter": "python",
   "pygments_lexer": "ipython3",
   "version": "3.11.0"
  },
  "orig_nbformat": 4,
  "vscode": {
   "interpreter": {
    "hash": "0aee3818fee69137dd2c672f61a55f5d1c0f29d5e4affb674b59112cea33fb82"
   }
  }
 },
 "nbformat": 4,
 "nbformat_minor": 2
}
