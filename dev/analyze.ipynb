{
 "cells": [
  {
   "cell_type": "code",
   "execution_count": 5,
   "metadata": {
    "collapsed": true
   },
   "outputs": [],
   "source": [
    "import sys\n",
    "\n",
    "sys.path.append(\"..\")\n",
    "\n",
    "import json\n",
    "from pathlib import Path\n",
    "\n",
    "import pandas as pd\n",
    "import plotly.express as px\n",
    "import plotly.graph_objects as go\n",
    "from pandas import DataFrame, Series\n",
    "\n",
    "from grade.spider import *\n"
   ]
  },
  {
   "cell_type": "code",
   "execution_count": 2,
   "metadata": {
    "collapsed": false
   },
   "outputs": [],
   "source": [
    "credential = json.loads(Path('../secret.json').read_text(encoding='utf-8'))\n",
    "username, password = credential['username'], credential['password']\n"
   ]
  },
  {
   "cell_type": "code",
   "execution_count": 3,
   "metadata": {
    "collapsed": false
   },
   "outputs": [],
   "source": [
    "courses = await get_courses(username, password)\n",
    "grade_book_items = await get_grade_book_items(username, password, course_id=courses[0]['id'])\n"
   ]
  },
  {
   "cell_type": "code",
   "execution_count": 4,
   "metadata": {
    "collapsed": false
   },
   "outputs": [
    {
     "data": {
      "text/plain": [
       "[{'id': 18059877,\n",
       "  'name': 'Playing Test #1-AAGR II',\n",
       "  'points': Decimal('99.0000000000'),\n",
       "  'max_points': Decimal('100'),\n",
       "  'score': Decimal('99'),\n",
       "  'max_score': Decimal('100.0000'),\n",
       "  'due_date': datetime.datetime(2023, 1, 30, 0, 0),\n",
       "  'is_for_grade': True,\n",
       "  'is_hidden': False,\n",
       "  'is_missing': False,\n",
       "  'measure_type': {'id': 52143,\n",
       "   'name': 'AKS Mastery*',\n",
       "   'weight': Decimal('45'),\n",
       "   'drop_score': Decimal('NaN')},\n",
       "  'comment': None},\n",
       " {'id': 18094191,\n",
       "  'name': 'Pass-Off #1- SBT #149',\n",
       "  'points': Decimal('100.0000000000'),\n",
       "  'max_points': Decimal('100'),\n",
       "  'score': Decimal('100'),\n",
       "  'max_score': Decimal('100.0000'),\n",
       "  'due_date': datetime.datetime(2023, 2, 3, 0, 0),\n",
       "  'is_for_grade': True,\n",
       "  'is_hidden': False,\n",
       "  'is_missing': False,\n",
       "  'measure_type': {'id': 52142,\n",
       "   'name': 'AKS Progress*',\n",
       "   'weight': Decimal('35'),\n",
       "   'drop_score': Decimal('NaN')},\n",
       "  'comment': None},\n",
       " {'id': 18094204,\n",
       "  'name': 'Pass-Off #2- E Major Scale',\n",
       "  'points': Decimal('100.0000000000'),\n",
       "  'max_points': Decimal('100'),\n",
       "  'score': Decimal('100'),\n",
       "  'max_score': Decimal('100.0000'),\n",
       "  'due_date': datetime.datetime(2023, 2, 17, 0, 0),\n",
       "  'is_for_grade': True,\n",
       "  'is_hidden': False,\n",
       "  'is_missing': False,\n",
       "  'measure_type': {'id': 52142,\n",
       "   'name': 'AKS Progress*',\n",
       "   'weight': Decimal('35'),\n",
       "   'drop_score': Decimal('NaN')},\n",
       "  'comment': None}]"
      ]
     },
     "execution_count": 4,
     "metadata": {},
     "output_type": "execute_result"
    }
   ],
   "source": []
  }
 ],
 "metadata": {
  "kernelspec": {
   "display_name": "Python 3",
   "language": "python",
   "name": "python3"
  },
  "language_info": {
   "codemirror_mode": {
    "name": "ipython",
    "version": 2
   },
   "file_extension": ".py",
   "mimetype": "text/x-python",
   "name": "python",
   "nbconvert_exporter": "python",
   "pygments_lexer": "ipython2",
   "version": "2.7.6"
  }
 },
 "nbformat": 4,
 "nbformat_minor": 0
}
